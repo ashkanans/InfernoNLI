{
 "cells": [
  {
   "cell_type": "code",
   "execution_count": null,
   "metadata": {
    "vscode": {
     "languageId": "plaintext"
    }
   },
   "outputs": [],
   "source": [
    "from datasets import load_dataset\n",
    "\n",
    "dataset = load_dataset(\"tommasobonomo/sem_augmented_fever_nli\")\n",
    "\n",
    "print(dataset)\n"
   ]
  },
  {
   "cell_type": "code",
   "execution_count": null,
   "metadata": {
    "vscode": {
     "languageId": "plaintext"
    }
   },
   "outputs": [],
   "source": [
    "train_data = dataset[\"train\"]\n",
    "val_data = dataset[\"validation\"]\n",
    "test_data = dataset[\"test\"]\n",
    "\n",
    "print(f\"Training samples: {len(train_data)}\")\n",
    "print(f\"Validation samples: {len(val_data)}\")\n",
    "print(f\"Test samples:      {len(test_data)}\")\n",
    "print(train_data[0])"
   ]
  },
  {
   "cell_type": "code",
   "execution_count": null,
   "metadata": {},
   "outputs": [],
   "source": [
    "from collections import Counter\n",
    "\n",
    "train_labels = [item[\"label\"] for item in train_data]\n",
    "label_counter = Counter(train_labels)\n",
    "print(\"Training label distribution:\", label_counter)"
   ]
  },
  {
   "cell_type": "code",
   "execution_count": null,
   "metadata": {},
   "outputs": [],
   "source": [
    "premise_lengths = [len(str(item[\"premise\"]).split()) for item in train_data]\n",
    "hypothesis_lengths = [len(str(item[\"hypothesis\"]).split()) for item in train_data]\n",
    "\n",
    "avg_premise_len = sum(premise_lengths) / len(premise_lengths)\n",
    "avg_hypothesis_len = sum(hypothesis_lengths) / len(hypothesis_lengths)\n",
    "print(f\"Average premise length:   {avg_premise_len:.2f} tokens\")\n",
    "print(f\"Average hypothesis length:{avg_hypothesis_len:.2f} tokens\")"
   ]
  },
  {
   "cell_type": "code",
   "execution_count": null,
   "metadata": {},
   "outputs": [],
   "source": [
    "sample = train_data[0]\n",
    "print(\"Sample keys:\", list(sample.keys()))\n",
    "print(\"WSD annotation example:\", sample.get(\"wsd\", None))\n",
    "print(\"SRL annotation example:\", sample.get(\"srl\", None))"
   ]
  },
  {
   "cell_type": "code",
   "execution_count": null,
   "metadata": {},
   "outputs": [],
   "source": [
    "import matplotlib.pyplot as plt\n",
    "\n",
    "labels = list(label_counter.keys())\n",
    "counts = list(label_counter.values())\n",
    "\n",
    "plt.bar(labels, counts)\n",
    "plt.title(\"Label Distribution (Training Split)\")\n",
    "plt.xlabel(\"Label\")\n",
    "plt.ylabel(\"Count\")\n",
    "plt.show()"
   ]
  }
 ],
 "metadata": {
  "kernelspec": {
   "display_name": "Python 3 (ipykernel)",
   "language": "python",
   "name": "python3"
  },
  "language_info": {
   "codemirror_mode": {
    "name": "ipython",
    "version": 3
   },
   "file_extension": ".py",
   "mimetype": "text/x-python",
   "name": "python",
   "nbconvert_exporter": "python",
   "pygments_lexer": "ipython3",
   "version": "3.12.3"
  }
 },
 "nbformat": 4,
 "nbformat_minor": 4
}
